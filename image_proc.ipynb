{
 "cells": [
  {
   "attachments": {},
   "cell_type": "markdown",
   "id": "46d6138d",
   "metadata": {},
   "source": [
    "# Image processing\n",
    "\n",
    "Converting image to thumbnail, blur it, create a hash and then generate a base64 data uri."
   ]
  },
  {
   "cell_type": "code",
   "execution_count": 13,
   "id": "db8d52b8",
   "metadata": {},
   "outputs": [],
   "source": [
    "import base64\n",
    "import io\n",
    "import os\n",
    "from PIL import Image, ImageFilter\n",
    "from datetime import datetime\n",
    "from elasticsearch import Elasticsearch\n",
    "import hashlib\n",
    "import sys\n"
   ]
  },
  {
   "cell_type": "code",
   "execution_count": 2,
   "id": "4178e208",
   "metadata": {},
   "outputs": [],
   "source": [
    "IMAGE_DIR = r'./JPEGImages'\n",
    "IMAGE_FORMAT = \"webp\"\n",
    "ES_HOST = \"http://localhost:9200\"\n",
    "ES_INDEX=\"images\"\n",
    "ES = Elasticsearch(ES_HOST)"
   ]
  },
  {
   "cell_type": "code",
   "execution_count": 3,
   "id": "a46b1235",
   "metadata": {},
   "outputs": [],
   "source": [
    "def image_to_base64(img):\n",
    "    buffer = io.BytesIO()\n",
    "    img.save(buffer, format=IMAGE_FORMAT)\n",
    "    return base64.b64encode(buffer.getvalue()).decode(\"utf-8\")"
   ]
  },
  {
   "cell_type": "code",
   "execution_count": 4,
   "id": "bf8c4d86",
   "metadata": {},
   "outputs": [],
   "source": [
    "def generate_image_hash(image_data):\n",
    "    sha256 = hashlib.sha256()\n",
    "    data = image_data # io.BytesIO(image_data).read(32768)  # reduce RAM usage\n",
    "    if not data:\n",
    "        raise ValueError(\"No image data provided, hence no hash could be generated\")\n",
    "    sha256.update(data)\n",
    "\n",
    "    return sha256.hexdigest()"
   ]
  },
  {
   "cell_type": "code",
   "execution_count": 22,
   "id": "59e735db",
   "metadata": {},
   "outputs": [],
   "source": [
    "def process_images(do_yield=True):\n",
    "    processed_images = 0\n",
    "    total_size = 0\n",
    "    for file in os.listdir(IMAGE_DIR):\n",
    "        # Limit to 1000 images\n",
    "        if (processed_images == 1000):\n",
    "             break\n",
    "        with Image.open(f'{IMAGE_DIR}/{file}') as img:\n",
    "            try:\n",
    "                img.thumbnail((1000, 240)) # Set max height\n",
    "                img_boxblur = img.filter(ImageFilter.BoxBlur(14))\n",
    "                img_gaussblur = img_boxblur.filter(ImageFilter.GaussianBlur(12))\n",
    "                original_image_hash = generate_image_hash(img.tobytes())\n",
    "                image_hash = generate_image_hash(img_gaussblur.tobytes())\n",
    "                # Show the original image and the blurred version\n",
    "                # if processed_images % 100 == 0 and not processed_images == 0:\n",
    "                #    img.show()\n",
    "                #    img_gaussblur.show()\n",
    "                img_b64  = f'data:image/{IMAGE_FORMAT};base64,{image_to_base64(img_gaussblur)}'\n",
    "                total_size += len(img_b64)\n",
    "                processed_images += 1\n",
    "                if do_yield:\n",
    "                    yield { \"id\": processed_images, \"original_image_hash\": original_image_hash, \"image_hash\": image_hash, \"path\": f\"{IMAGE_DIR}/{file}\", \"data_uri\": img_b64, \"timestamp\": datetime.now().timestamp(), \"bytes\": len(img_b64)}\n",
    "            except OSError:\n",
    "                print(f\"Error: Could not process file {file}\")\n",
    "            except KeyboardInterrupt:\n",
    "                print(\"Halting processing\")\n",
    "                break\n",
    "    print(f\"Processed {processed_images} files with total size of {total_size}.\")"
   ]
  },
  {
   "cell_type": "code",
   "execution_count": null,
   "id": "a989cd25",
   "metadata": {},
   "outputs": [],
   "source": [
    "# Check\n",
    "for obj in process_images():\n",
    "  if (obj[\"id\"] % 1000 == 0):\n",
    "    print(obj)\n",
    "#process_images(do_yield=False)"
   ]
  },
  {
   "attachments": {},
   "cell_type": "markdown",
   "id": "20e4af09",
   "metadata": {},
   "source": [
    "## Test with indexing images in elastic\n",
    "\n",
    "Index base64 encoded images in Elastic.\n"
   ]
  },
  {
   "cell_type": "code",
   "execution_count": 74,
   "id": "a119360e",
   "metadata": {},
   "outputs": [],
   "source": [
    "def es_insert(doc):\n",
    "  if ES.exists(index=ES_INDEX, id=doc[\"id\"]):\n",
    "    ES.update(index=ES_INDEX, id=doc[\"id\"], doc=doc)\n",
    "  else:\n",
    "    ES.create(index=ES_INDEX, id=doc[\"id\"], document=doc)"
   ]
  },
  {
   "cell_type": "code",
   "execution_count": null,
   "id": "e3bde03c",
   "metadata": {},
   "outputs": [],
   "source": [
    "for obj in process_images():\n",
    "  es_insert(obj)"
   ]
  },
  {
   "attachments": {},
   "cell_type": "markdown",
   "id": "fe87bfae",
   "metadata": {},
   "source": [
    "Check the size of the blurred base64 data uri in Elastic, would like to keep them as small as possible"
   ]
  },
  {
   "cell_type": "code",
   "execution_count": 81,
   "id": "d5cd5ac4",
   "metadata": {},
   "outputs": [
    {
     "data": {
      "text/plain": [
       "ObjectApiResponse({'count': 95, '_shards': {'total': 1, 'successful': 1, 'skipped': 0, 'failed': 0}})"
      ]
     },
     "execution_count": 81,
     "metadata": {},
     "output_type": "execute_result"
    }
   ],
   "source": [
    "ES.count(index=ES_INDEX, query={\"range\": { \"bytes\": {\"gte\": 3000}}})"
   ]
  },
  {
   "cell_type": "code",
   "execution_count": null,
   "id": "4558f821",
   "metadata": {},
   "outputs": [],
   "source": [
    "ES.search(index=ES_INDEX, query={\"match_all\": {}}, size=50)"
   ]
  }
 ],
 "metadata": {
  "kernelspec": {
   "display_name": "Python 3.9.12 ('venv': venv)",
   "language": "python",
   "name": "python3"
  },
  "language_info": {
   "codemirror_mode": {
    "name": "ipython",
    "version": 3
   },
   "file_extension": ".py",
   "mimetype": "text/x-python",
   "name": "python",
   "nbconvert_exporter": "python",
   "pygments_lexer": "ipython3",
   "version": "3.9.12"
  },
  "vscode": {
   "interpreter": {
    "hash": "ead65a6fae55a876f4a014494328effc3d8bf207eecdd018356a244091f14a6b"
   }
  }
 },
 "nbformat": 4,
 "nbformat_minor": 5
}
